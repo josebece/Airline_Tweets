{
 "cells": [
  {
   "cell_type": "code",
   "execution_count": 3,
   "metadata": {},
   "outputs": [
    {
     "name": "stdout",
     "output_type": "stream",
     "text": [
      "showing info https://raw.githubusercontent.com/nltk/nltk_data/gh-pages/index.xml\n"
     ]
    }
   ],
   "source": [
    "import numpy as np\n",
    "import pandas as pd\n",
    "import matplotlib.pyplot as plt\n",
    "import seaborn as sns\n",
    "import sqlite3\n",
    "import os\n",
    "import nltk\n",
    "nltk.download()   # Used to download stopwords \n",
    "from  nltk.corpus import stopwords\n",
    "import re\n",
    "import string"
   ]
  },
  {
   "cell_type": "code",
   "execution_count": 22,
   "metadata": {},
   "outputs": [
    {
     "name": "stdout",
     "output_type": "stream",
     "text": [
      "Requirement already satisfied: contractions in c:\\users\\jose-\\anaconda3\\lib\\site-packages (0.1.72)\n",
      "Requirement already satisfied: textsearch>=0.0.21 in c:\\users\\jose-\\anaconda3\\lib\\site-packages (from contractions) (0.0.21)\n",
      "Requirement already satisfied: pyahocorasick in c:\\users\\jose-\\anaconda3\\lib\\site-packages (from textsearch>=0.0.21->contractions) (1.4.4)\n",
      "Requirement already satisfied: anyascii in c:\\users\\jose-\\anaconda3\\lib\\site-packages (from textsearch>=0.0.21->contractions) (0.3.1)\n"
     ]
    }
   ],
   "source": [
    "import sys  \n",
    "!{sys.executable} -m pip install contractions\n",
    "import contractions"
   ]
  },
  {
   "cell_type": "code",
   "execution_count": 40,
   "metadata": {},
   "outputs": [],
   "source": [
    "from sklearn.feature_extraction.text import TfidfVectorizer\n",
    "from sklearn.model_selection import train_test_split\n",
    "from sklearn.ensemble import RandomForestClassifier\n",
    "from sklearn.datasets import make_classification"
   ]
  },
  {
   "cell_type": "code",
   "execution_count": 5,
   "metadata": {},
   "outputs": [],
   "source": [
    "conn = sqlite3.connect('tweet.db')  # Data will be store in tweet.db\n",
    "cur = conn.cursor                   # Connect for execution\n",
    "tweets = pd.read_csv('Tweets.csv')  # Read csv file using pandas\n",
    "tweets.to_sql('tweets', conn, if_exists='replace', index=False)  #Transform csv to sql"
   ]
  },
  {
   "cell_type": "code",
   "execution_count": 6,
   "metadata": {},
   "outputs": [],
   "source": [
    "query = \"SELECT airline, airline_sentiment, text, negativereason, airline_sentiment AS sentiment FROM 'Tweets'\"  # \n",
    "tweets_db = pd.read_sql_query(sql = query, con = conn)"
   ]
  },
  {
   "cell_type": "code",
   "execution_count": 7,
   "metadata": {},
   "outputs": [
    {
     "data": {
      "text/plain": [
       "Text(0.5, 0, '# of Tweets')"
      ]
     },
     "execution_count": 7,
     "metadata": {},
     "output_type": "execute_result"
    },
    {
     "data": {
      "image/png": "[encoded data removed]",
      "text/plain": [
       "<Figure size 432x288 with 1 Axes>"
      ]
     },
     "metadata": {
      "needs_background": "light"
     },
     "output_type": "display_data"
    }
   ],
   "source": [
    "#Plotting A Counter Plot\n",
    "count_plot = sns.countplot(y =\"airline\", data = tweets_db, palette=\"bright\")\n",
    "count_plot.set_title(\"Tweet count for each airline\")\n",
    "count_plot.set_ylabel(\"Airline\")\n",
    "count_plot.set_xlabel(\"# of Tweets\")"
   ]
  },
  {
   "cell_type": "code",
   "execution_count": 8,
   "metadata": {},
   "outputs": [
    {
     "data": {
      "image/png": "[encoded data removed]",
      "text/plain": [
       "<Figure size 432x288 with 1 Axes>"
      ]
     },
     "metadata": {},
     "output_type": "display_data"
    }
   ],
   "source": [
    "# Pie Graph for Sentiment\n",
    "sentiment_count = tweets_db[\"airline_sentiment\"].value_counts()\n",
    "pie_data = [sentiment_count['negative'],sentiment_count['positive'], sentiment_count['neutral']]\n",
    "pie_labels = ['Negative', 'Positive', 'Neutral']\n",
    "explode = [0.1,0.1,0.1]\n",
    "colors = sns.color_palette('tab10')\n",
    "plt.pie(x = pie_data, labels = pie_labels, explode = explode, colors = colors,autopct='%.2f') \n",
    "plt.title(\"Sentiment\")\n",
    "#plt.legend\n",
    "plt.show()\n",
    "\n"
   ]
  },
  {
   "cell_type": "code",
   "execution_count": 9,
   "metadata": {},
   "outputs": [],
   "source": [
    "def sentiment_conversion(sentiment):\n",
    "    if sentiment == \"positive\":\n",
    "        return 1\n",
    "    elif sentiment == \"negative\":\n",
    "        return -1 \n",
    "    elif sentiment == \"neutral\":\n",
    "        return 0        \n"
   ]
  },
  {
   "cell_type": "markdown",
   "metadata": {},
   "source": [
    "### Cleaning Data"
   ]
  },
  {
   "cell_type": "markdown",
   "metadata": {},
   "source": [
    "- Stopwords\n",
    "- Capital Letters\n"
   ]
  },
  {
   "cell_type": "code",
   "execution_count": 10,
   "metadata": {},
   "outputs": [],
   "source": [
    "def testing(func):\n",
    "    i_max = tweets_db['text'].str.len().max()  # Finds longest tweet\n",
    "    print(\"Originial tweet: \")\n",
    "    n_tweet = tweets_db['text'].loc[i_max]\n",
    "    print(n_tweet)  # Prints longest tweet\n",
    "    print(\"\")\n",
    "    print(\"After Clean: \")\n",
    "    print(func(n_tweet))  # Prints tweet after it has been cleaned\n",
    "    "
   ]
  },
  {
   "cell_type": "code",
   "execution_count": 11,
   "metadata": {},
   "outputs": [
    {
     "name": "stdout",
     "output_type": "stream",
     "text": [
      "Originial tweet: \n",
      "@VirginAmerica a lot of \"apologies\" being thrown out to customers from what I can see.Very sad. Thanks for nothing. Worst airline ever.\n",
      "\n",
      "After Clean: \n",
      "@VirginAmerica lot \"apologies\" thrown customers I see.Very sad. Thanks nothing. Worst airline ever.\n"
     ]
    }
   ],
   "source": [
    "def clean_stopword(text):\n",
    "    words = text.split()\n",
    "    n_text = [word for word in words if word not in (stopwords.words('english'))]\n",
    "    n_text = \" \".join(n_text)\n",
    "    return n_text \n",
    "    \n",
    "# Testing:    \n",
    "testing(clean_stopword) "
   ]
  },
  {
   "cell_type": "code",
   "execution_count": 12,
   "metadata": {},
   "outputs": [
    {
     "name": "stdout",
     "output_type": "stream",
     "text": [
      "Originial tweet: \n",
      "@VirginAmerica a lot of \"apologies\" being thrown out to customers from what I can see.Very sad. Thanks for nothing. Worst airline ever.\n",
      "\n",
      "After Clean: \n",
      "@virginamerica a lot of \"apologies\" being thrown out to customers from what i can see.very sad. thanks for nothing. worst airline ever.\n"
     ]
    }
   ],
   "source": [
    "def clean_capital(text):\n",
    "    n_text = text.lower()\n",
    "    return n_text \n",
    "\n",
    "# Testing    \n",
    "testing(clean_capital)  "
   ]
  },
  {
   "cell_type": "code",
   "execution_count": 13,
   "metadata": {},
   "outputs": [
    {
     "name": "stdout",
     "output_type": "stream",
     "text": [
      "Originial tweet: \n",
      "@VirginAmerica a lot of \"apologies\" being thrown out to customers from what I can see.Very sad. Thanks for nothing. Worst airline ever.\n",
      "\n",
      "After Clean: \n",
      " a lot of \"apologies\" being thrown out to customers from what I can see.Very sad. Thanks for nothing. Worst airline ever.\n"
     ]
    }
   ],
   "source": [
    "def clean_mentions(text):\n",
    "    text = re.sub('@[\\S]+','',text)\n",
    "    return text \n",
    "\n",
    "# Testing\n",
    "testing(clean_mentions)    "
   ]
  },
  {
   "cell_type": "code",
   "execution_count": 14,
   "metadata": {},
   "outputs": [
    {
     "name": "stdout",
     "output_type": "stream",
     "text": [
      "Originial tweet: \n",
      "@VirginAmerica a lot of \"apologies\" being thrown out to customers from what I can see.Very sad. Thanks for nothing. Worst airline ever.\n",
      "\n",
      "After Clean: \n",
      " VirginAmerica a lot of  apologies  being thrown out to customers from what I can see Very sad  Thanks for nothing  Worst airline ever \n"
     ]
    }
   ],
   "source": [
    "def clean_punctuations(text):\n",
    "    n_text = re.sub(r'[^\\w\\s]', ' ', text) #Leads to unecessary spaces but useful\n",
    "    return n_text\n",
    "\n",
    "# Testing\n",
    "testing(clean_punctuations)\n"
   ]
  },
  {
   "cell_type": "code",
   "execution_count": 15,
   "metadata": {},
   "outputs": [
    {
     "name": "stdout",
     "output_type": "stream",
     "text": [
      "Originial tweet: \n",
      "@VirginAmerica a lot of \"apologies\" being thrown out to customers from what I can see.Very sad. Thanks for nothing. Worst airline ever.\n",
      "\n",
      "After Clean: \n",
      "@VirginAmerica a lot of \"apologies\" being thrown out to customers from what I can see.Very sad. Thanks for nothing. Worst airline ever.\n"
     ]
    }
   ],
   "source": [
    "#https://stackoverflow.com/questions/33404752/removing-emojis-from-a-string-in-python\n",
    "def remove_emojis(text):\n",
    "    emoj = re.compile(\"[\"\n",
    "        u\"\\U0001F600-\\U0001F64F\"  # emoticons\n",
    "        u\"\\U0001F300-\\U0001F5FF\"  # symbols & pictographs\n",
    "        u\"\\U0001F680-\\U0001F6FF\"  # transport & map symbols\n",
    "        u\"\\U0001F1E0-\\U0001F1FF\"  # flags (iOS)\n",
    "        u\"\\U00002500-\\U00002BEF\"  # chinese char\n",
    "        u\"\\U00002702-\\U000027B0\"\n",
    "        u\"\\U00002702-\\U000027B0\"\n",
    "        u\"\\U000024C2-\\U0001F251\"\n",
    "        u\"\\U0001f926-\\U0001f937\"\n",
    "        u\"\\U00010000-\\U0010ffff\"\n",
    "        u\"\\u2640-\\u2642\" \n",
    "        u\"\\u2600-\\u2B55\"\n",
    "        u\"\\u200d\"\n",
    "        u\"\\u23cf\"\n",
    "        u\"\\u23e9\"\n",
    "        u\"\\u231a\"\n",
    "        u\"\\ufe0f\"  # dingbats\n",
    "        u\"\\u3030\"\n",
    "                      \"]+\", re.UNICODE)\n",
    "    return re.sub(emoj, '', text)\n",
    "\n",
    "# Testing\n",
    "testing(remove_emojis)"
   ]
  },
  {
   "cell_type": "code",
   "execution_count": 25,
   "metadata": {},
   "outputs": [
    {
     "name": "stdout",
     "output_type": "stream",
     "text": [
      "I will be there within 5 min. Should not you be there too? I would love to see you there my dear. It is awesome to meet new friends. We have been waiting for this day for so long.\n"
     ]
    }
   ],
   "source": [
    "def clean_contractions(text):\n",
    "    contract = text.split()\n",
    "    expand_word = []\n",
    "    for word in contract:\n",
    "        expand_word.append(contractions.fix(word))\n",
    "    expand = ' '.join(expand_word)\n",
    "    return expand    "
   ]
  },
  {
   "cell_type": "code",
   "execution_count": 17,
   "metadata": {},
   "outputs": [],
   "source": [
    "text01 = tweets_db['negativereason'] + ' ' + tweets_db['text'] "
   ]
  },
  {
   "cell_type": "code",
   "execution_count": 27,
   "metadata": {},
   "outputs": [
    {
     "data": {
      "text/plain": [
       "'atlantic is a pain in the reall really, go'"
      ]
     },
     "execution_count": 27,
     "metadata": {},
     "output_type": "execute_result"
    }
   ],
   "source": [
    "airline_names = ['virgin','america','delta','united','southwest','american','airways']\n",
    "def clean_airline(text):\n",
    "    words = text.split()\n",
    "    n_text = [word for word in words if word not in airline_names]\n",
    "    n_text = \" \".join(n_text)\n",
    "    return n_text\n",
    "\n"
   ]
  },
  {
   "cell_type": "code",
   "execution_count": 28,
   "metadata": {},
   "outputs": [],
   "source": [
    "tweets_db['processed_text'] = tweets_db['text'] # Make Copy\n",
    "tweets_db['processed_text'] = tweets_db['processed_text'].apply(lambda x : remove_emojis(x))\n",
    "tweets_db['processed_text'] = tweets_db['processed_text'].apply(lambda x : clean_contractions(x))\n",
    "tweets_db['processed_text'] = tweets_db['processed_text'].apply(lambda x : clean_stopword(x))\n",
    "tweets_db['processed_text'] = tweets_db['processed_text'].apply(lambda x : clean_mentions(x))\n",
    "tweets_db['processed_text'] = tweets_db['processed_text'].apply(lambda x : clean_capital(x))\n",
    "tweets_db['processed_text'] = tweets_db['processed_text'].apply(lambda x : clean_airline(x))\n",
    "tweets_db['processed_text'] = tweets_db['processed_text'].apply(lambda x : clean_punctuations(x))"
   ]
  },
  {
   "cell_type": "code",
   "execution_count": 30,
   "metadata": {},
   "outputs": [],
   "source": [
    "tweets_db['encoded_sentiment'] = tweets_db['airline_sentiment'] # Make Copy\n",
    "tweets_db['encoded_sentiment'] = tweets_db['encoded_sentiment'].apply(lambda x : sentiment_conversion(x))"
   ]
  },
  {
   "cell_type": "code",
   "execution_count": 37,
   "metadata": {},
   "outputs": [],
   "source": [
    "vectorizer = TfidfVectorizer()\n",
    "X = vectorizer.fit_transform(tweets_db['processed_text'])\n",
    "\n",
    "\n"
   ]
  },
  {
   "cell_type": "code",
   "execution_count": 39,
   "metadata": {},
   "outputs": [],
   "source": [
    "x_train, x_test, y_train, y_test = train_test_split(X,tweets_db['encoded_sentiment'],test_size = 0.2)"
   ]
  },
  {
   "cell_type": "code",
   "execution_count": 41,
   "metadata": {},
   "outputs": [
    {
     "data": {
      "text/plain": [
       "RandomForestClassifier()"
      ]
     },
     "execution_count": 41,
     "metadata": {},
     "output_type": "execute_result"
    }
   ],
   "source": [
    "rf = RandomForestClassifier()\n",
    "rf.fit(x_train,y_train)"
   ]
  },
  {
   "cell_type": "code",
   "execution_count": 43,
   "metadata": {},
   "outputs": [
    {
     "name": "stdout",
     "output_type": "stream",
     "text": [
      "0.7619535519125683\n"
     ]
    }
   ],
   "source": [
    "from sklearn.metrics import accuracy_score\n",
    "prediction = rf.predict(x_test)\n",
    "acc_score = accuracy_score(prediction,y_test)\n",
    "print(acc_score)"
   ]
  },
  {
   "cell_type": "code",
   "execution_count": 19,
   "metadata": {},
   "outputs": [],
   "source": [
    "# References:\n",
    "# https://thehelloworldprogram.com/python/python-string-methods/#:~:text=Performing%20the%20.,of%20the%20characters%20to%20lowercase."
   ]
  },
  {
   "cell_type": "code",
   "execution_count": null,
   "metadata": {},
   "outputs": [],
   "source": []
  }
 ],
 "metadata": {
  "interpreter": {
   "hash": "bc8a433f7e57b88de2f5bf68e19641abf0f5f56b5ff94f6b87a42ae2e2072a47"
  },
  "kernelspec": {
   "display_name": "Python 3.8.5 ('base')",
   "language": "python",
   "name": "python3"
  },
  "language_info": {
   "codemirror_mode": {
    "name": "ipython",
    "version": 3
   },
   "file_extension": ".py",
   "mimetype": "text/x-python",
   "name": "python",
   "nbconvert_exporter": "python",
   "pygments_lexer": "ipython3",
   "version": "3.8.5"
  },
  "orig_nbformat": 4
 },
 "nbformat": 4,
 "nbformat_minor": 2
}
